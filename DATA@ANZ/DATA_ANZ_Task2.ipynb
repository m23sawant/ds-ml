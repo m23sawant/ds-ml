{
  "nbformat": 4,
  "nbformat_minor": 0,
  "metadata": {
    "colab": {
      "name": "DATA@ANZ Task2.ipynb",
      "provenance": []
    },
    "kernelspec": {
      "name": "python3",
      "display_name": "Python 3"
    },
    "accelerator": "GPU"
  },
  "cells": [
    {
      "cell_type": "markdown",
      "metadata": {
        "id": "UfJ9XcTsaFzj",
        "colab_type": "text"
      },
      "source": [
        "# DATA@ANZ Virtual Internship Task 2"
      ]
    },
    {
      "cell_type": "markdown",
      "metadata": {
        "id": "bSiF6-vlaZXX",
        "colab_type": "text"
      },
      "source": [
        "The goal of this challenge is to train a machine learning model to predict the salaries of the customers. \n",
        "\n",
        "In my solution, I use a Random Forest and an XGBoost regressors to train the model. \n",
        "\n",
        "But first, we'll have to go through some data pre processing steps."
      ]
    },
    {
      "cell_type": "markdown",
      "metadata": {
        "id": "5N2Rx4H1bU27",
        "colab_type": "text"
      },
      "source": [
        "### Step 1: Imports "
      ]
    },
    {
      "cell_type": "code",
      "metadata": {
        "id": "ta-Bg0aw5BzR",
        "colab_type": "code",
        "colab": {}
      },
      "source": [
        "import pandas as pd\n",
        "import numpy as np\n",
        "import matplotlib.pyplot as plt\n",
        "import re\n",
        "from sklearn.ensemble import RandomForestRegressor, RandomForestClassifier\n",
        "from sklearn.tree import export_graphviz\n",
        "from pre_processing import * # My custom code which helps me in data processing. Importing it to keep the notebook clean.\n",
        "import pandas.api.types as ptypes\n",
        "\n",
        "from IPython.display import display\n",
        "import pandas.api.types as ptypes\n",
        "\n",
        "from sklearn import metrics"
      ],
      "execution_count": 0,
      "outputs": []
    },
    {
      "cell_type": "code",
      "metadata": {
        "id": "Xwir97z16Gy8",
        "colab_type": "code",
        "colab": {
          "base_uri": "https://localhost:8080/",
          "height": 467
        },
        "outputId": "da7ab6b6-b635-48f5-8d0b-07bb23fb0db7"
      },
      "source": [
        "df=pd.read_excel(\"ANZ synthesised transaction dataset.xlsx\")\n",
        "df.head()"
      ],
      "execution_count": 6,
      "outputs": [
        {
          "output_type": "execute_result",
          "data": {
            "text/html": [
              "<div>\n",
              "<style scoped>\n",
              "    .dataframe tbody tr th:only-of-type {\n",
              "        vertical-align: middle;\n",
              "    }\n",
              "\n",
              "    .dataframe tbody tr th {\n",
              "        vertical-align: top;\n",
              "    }\n",
              "\n",
              "    .dataframe thead th {\n",
              "        text-align: right;\n",
              "    }\n",
              "</style>\n",
              "<table border=\"1\" class=\"dataframe\">\n",
              "  <thead>\n",
              "    <tr style=\"text-align: right;\">\n",
              "      <th></th>\n",
              "      <th>status</th>\n",
              "      <th>card_present_flag</th>\n",
              "      <th>bpay_biller_code</th>\n",
              "      <th>account</th>\n",
              "      <th>currency</th>\n",
              "      <th>long_lat</th>\n",
              "      <th>txn_description</th>\n",
              "      <th>merchant_id</th>\n",
              "      <th>merchant_code</th>\n",
              "      <th>first_name</th>\n",
              "      <th>balance</th>\n",
              "      <th>date</th>\n",
              "      <th>gender</th>\n",
              "      <th>age</th>\n",
              "      <th>merchant_suburb</th>\n",
              "      <th>merchant_state</th>\n",
              "      <th>extraction</th>\n",
              "      <th>amount</th>\n",
              "      <th>transaction_id</th>\n",
              "      <th>country</th>\n",
              "      <th>customer_id</th>\n",
              "      <th>merchant_long_lat</th>\n",
              "      <th>movement</th>\n",
              "    </tr>\n",
              "  </thead>\n",
              "  <tbody>\n",
              "    <tr>\n",
              "      <th>0</th>\n",
              "      <td>authorized</td>\n",
              "      <td>1.0</td>\n",
              "      <td>NaN</td>\n",
              "      <td>ACC-1598451071</td>\n",
              "      <td>AUD</td>\n",
              "      <td>153.41 -27.95</td>\n",
              "      <td>POS</td>\n",
              "      <td>81c48296-73be-44a7-befa-d053f48ce7cd</td>\n",
              "      <td>NaN</td>\n",
              "      <td>Diana</td>\n",
              "      <td>35.39</td>\n",
              "      <td>2018-08-01</td>\n",
              "      <td>F</td>\n",
              "      <td>26</td>\n",
              "      <td>Ashmore</td>\n",
              "      <td>QLD</td>\n",
              "      <td>2018-08-01T01:01:15.000+0000</td>\n",
              "      <td>16.25</td>\n",
              "      <td>a623070bfead4541a6b0fff8a09e706c</td>\n",
              "      <td>Australia</td>\n",
              "      <td>CUS-2487424745</td>\n",
              "      <td>153.38 -27.99</td>\n",
              "      <td>debit</td>\n",
              "    </tr>\n",
              "    <tr>\n",
              "      <th>1</th>\n",
              "      <td>authorized</td>\n",
              "      <td>0.0</td>\n",
              "      <td>NaN</td>\n",
              "      <td>ACC-1598451071</td>\n",
              "      <td>AUD</td>\n",
              "      <td>153.41 -27.95</td>\n",
              "      <td>SALES-POS</td>\n",
              "      <td>830a451c-316e-4a6a-bf25-e37caedca49e</td>\n",
              "      <td>NaN</td>\n",
              "      <td>Diana</td>\n",
              "      <td>21.20</td>\n",
              "      <td>2018-08-01</td>\n",
              "      <td>F</td>\n",
              "      <td>26</td>\n",
              "      <td>Sydney</td>\n",
              "      <td>NSW</td>\n",
              "      <td>2018-08-01T01:13:45.000+0000</td>\n",
              "      <td>14.19</td>\n",
              "      <td>13270a2a902145da9db4c951e04b51b9</td>\n",
              "      <td>Australia</td>\n",
              "      <td>CUS-2487424745</td>\n",
              "      <td>151.21 -33.87</td>\n",
              "      <td>debit</td>\n",
              "    </tr>\n",
              "    <tr>\n",
              "      <th>2</th>\n",
              "      <td>authorized</td>\n",
              "      <td>1.0</td>\n",
              "      <td>NaN</td>\n",
              "      <td>ACC-1222300524</td>\n",
              "      <td>AUD</td>\n",
              "      <td>151.23 -33.94</td>\n",
              "      <td>POS</td>\n",
              "      <td>835c231d-8cdf-4e96-859d-e9d571760cf0</td>\n",
              "      <td>NaN</td>\n",
              "      <td>Michael</td>\n",
              "      <td>5.71</td>\n",
              "      <td>2018-08-01</td>\n",
              "      <td>M</td>\n",
              "      <td>38</td>\n",
              "      <td>Sydney</td>\n",
              "      <td>NSW</td>\n",
              "      <td>2018-08-01T01:26:15.000+0000</td>\n",
              "      <td>6.42</td>\n",
              "      <td>feb79e7ecd7048a5a36ec889d1a94270</td>\n",
              "      <td>Australia</td>\n",
              "      <td>CUS-2142601169</td>\n",
              "      <td>151.21 -33.87</td>\n",
              "      <td>debit</td>\n",
              "    </tr>\n",
              "    <tr>\n",
              "      <th>3</th>\n",
              "      <td>authorized</td>\n",
              "      <td>1.0</td>\n",
              "      <td>NaN</td>\n",
              "      <td>ACC-1037050564</td>\n",
              "      <td>AUD</td>\n",
              "      <td>153.10 -27.66</td>\n",
              "      <td>SALES-POS</td>\n",
              "      <td>48514682-c78a-4a88-b0da-2d6302e64673</td>\n",
              "      <td>NaN</td>\n",
              "      <td>Rhonda</td>\n",
              "      <td>2117.22</td>\n",
              "      <td>2018-08-01</td>\n",
              "      <td>F</td>\n",
              "      <td>40</td>\n",
              "      <td>Buderim</td>\n",
              "      <td>QLD</td>\n",
              "      <td>2018-08-01T01:38:45.000+0000</td>\n",
              "      <td>40.90</td>\n",
              "      <td>2698170da3704fd981b15e64a006079e</td>\n",
              "      <td>Australia</td>\n",
              "      <td>CUS-1614226872</td>\n",
              "      <td>153.05 -26.68</td>\n",
              "      <td>debit</td>\n",
              "    </tr>\n",
              "    <tr>\n",
              "      <th>4</th>\n",
              "      <td>authorized</td>\n",
              "      <td>1.0</td>\n",
              "      <td>NaN</td>\n",
              "      <td>ACC-1598451071</td>\n",
              "      <td>AUD</td>\n",
              "      <td>153.41 -27.95</td>\n",
              "      <td>SALES-POS</td>\n",
              "      <td>b4e02c10-0852-4273-b8fd-7b3395e32eb0</td>\n",
              "      <td>NaN</td>\n",
              "      <td>Diana</td>\n",
              "      <td>17.95</td>\n",
              "      <td>2018-08-01</td>\n",
              "      <td>F</td>\n",
              "      <td>26</td>\n",
              "      <td>Mermaid Beach</td>\n",
              "      <td>QLD</td>\n",
              "      <td>2018-08-01T01:51:15.000+0000</td>\n",
              "      <td>3.25</td>\n",
              "      <td>329adf79878c4cf0aeb4188b4691c266</td>\n",
              "      <td>Australia</td>\n",
              "      <td>CUS-2487424745</td>\n",
              "      <td>153.44 -28.06</td>\n",
              "      <td>debit</td>\n",
              "    </tr>\n",
              "  </tbody>\n",
              "</table>\n",
              "</div>"
            ],
            "text/plain": [
              "       status  card_present_flag  ... merchant_long_lat movement\n",
              "0  authorized                1.0  ...     153.38 -27.99    debit\n",
              "1  authorized                0.0  ...     151.21 -33.87    debit\n",
              "2  authorized                1.0  ...     151.21 -33.87    debit\n",
              "3  authorized                1.0  ...     153.05 -26.68    debit\n",
              "4  authorized                1.0  ...     153.44 -28.06    debit\n",
              "\n",
              "[5 rows x 23 columns]"
            ]
          },
          "metadata": {
            "tags": []
          },
          "execution_count": 6
        }
      ]
    },
    {
      "cell_type": "markdown",
      "metadata": {
        "id": "7D-_EW74boee",
        "colab_type": "text"
      },
      "source": [
        "### Step 2: Data Pre-processing"
      ]
    },
    {
      "cell_type": "markdown",
      "metadata": {
        "id": "QXyOnSvkbtWG",
        "colab_type": "text"
      },
      "source": [
        "As we found out in the previous task, these columns don't provide us with any useful insights and hence, I remove them. "
      ]
    },
    {
      "cell_type": "code",
      "metadata": {
        "id": "st0Gyd5R6JZ5",
        "colab_type": "code",
        "colab": {
          "base_uri": "https://localhost:8080/",
          "height": 105
        },
        "outputId": "133c4cac-1d80-4bad-ca0d-ae19acac1145"
      },
      "source": [
        "df.drop(['bpay_biller_code','merchant_code','currency','country','date'],axis=1,inplace=True)\n",
        "df.columns"
      ],
      "execution_count": 7,
      "outputs": [
        {
          "output_type": "execute_result",
          "data": {
            "text/plain": [
              "Index(['status', 'card_present_flag', 'account', 'long_lat', 'txn_description',\n",
              "       'merchant_id', 'first_name', 'balance', 'gender', 'age',\n",
              "       'merchant_suburb', 'merchant_state', 'extraction', 'amount',\n",
              "       'transaction_id', 'customer_id', 'merchant_long_lat', 'movement'],\n",
              "      dtype='object')"
            ]
          },
          "metadata": {
            "tags": []
          },
          "execution_count": 7
        }
      ]
    },
    {
      "cell_type": "markdown",
      "metadata": {
        "id": "NHRCqxubb3aL",
        "colab_type": "text"
      },
      "source": [
        "Although the goal is to predict the salaries of the customers, there's not specific salary column. Hence, I have to split the data in such a way that the \"txn_description\" columns specify Pay or Salary. This also makes a lot of other columns redundant. Hence, I remove them as well. "
      ]
    },
    {
      "cell_type": "code",
      "metadata": {
        "id": "LaF2NdsW6eH6",
        "colab_type": "code",
        "colab": {
          "base_uri": "https://localhost:8080/",
          "height": 301
        },
        "outputId": "f425287e-473f-43c7-e95a-786252459de6"
      },
      "source": [
        "salary_df=df[df['txn_description']=='PAY/SALARY']\n",
        "salary_df=salary_df.drop(['txn_description','card_present_flag','merchant_suburb','merchant_state'],axis=1)\n",
        "salary_df.head()"
      ],
      "execution_count": 8,
      "outputs": [
        {
          "output_type": "execute_result",
          "data": {
            "text/html": [
              "<div>\n",
              "<style scoped>\n",
              "    .dataframe tbody tr th:only-of-type {\n",
              "        vertical-align: middle;\n",
              "    }\n",
              "\n",
              "    .dataframe tbody tr th {\n",
              "        vertical-align: top;\n",
              "    }\n",
              "\n",
              "    .dataframe thead th {\n",
              "        text-align: right;\n",
              "    }\n",
              "</style>\n",
              "<table border=\"1\" class=\"dataframe\">\n",
              "  <thead>\n",
              "    <tr style=\"text-align: right;\">\n",
              "      <th></th>\n",
              "      <th>status</th>\n",
              "      <th>account</th>\n",
              "      <th>long_lat</th>\n",
              "      <th>merchant_id</th>\n",
              "      <th>first_name</th>\n",
              "      <th>balance</th>\n",
              "      <th>gender</th>\n",
              "      <th>age</th>\n",
              "      <th>extraction</th>\n",
              "      <th>amount</th>\n",
              "      <th>transaction_id</th>\n",
              "      <th>customer_id</th>\n",
              "      <th>merchant_long_lat</th>\n",
              "      <th>movement</th>\n",
              "    </tr>\n",
              "  </thead>\n",
              "  <tbody>\n",
              "    <tr>\n",
              "      <th>50</th>\n",
              "      <td>posted</td>\n",
              "      <td>ACC-588564840</td>\n",
              "      <td>151.27 -33.76</td>\n",
              "      <td>NaN</td>\n",
              "      <td>Isaiah</td>\n",
              "      <td>8342.11</td>\n",
              "      <td>M</td>\n",
              "      <td>23</td>\n",
              "      <td>2018-08-01T11:00:00.000+0000</td>\n",
              "      <td>3903.95</td>\n",
              "      <td>9ca281650e5d482d9e53f85e959baa66</td>\n",
              "      <td>CUS-1462656821</td>\n",
              "      <td>NaN</td>\n",
              "      <td>credit</td>\n",
              "    </tr>\n",
              "    <tr>\n",
              "      <th>61</th>\n",
              "      <td>posted</td>\n",
              "      <td>ACC-1650504218</td>\n",
              "      <td>145.01 -37.93</td>\n",
              "      <td>NaN</td>\n",
              "      <td>Marissa</td>\n",
              "      <td>2040.58</td>\n",
              "      <td>F</td>\n",
              "      <td>23</td>\n",
              "      <td>2018-08-01T12:00:00.000+0000</td>\n",
              "      <td>1626.48</td>\n",
              "      <td>1822eb0e1bbe4c9e95ebbb0fa2cc4323</td>\n",
              "      <td>CUS-2500783281</td>\n",
              "      <td>NaN</td>\n",
              "      <td>credit</td>\n",
              "    </tr>\n",
              "    <tr>\n",
              "      <th>64</th>\n",
              "      <td>posted</td>\n",
              "      <td>ACC-3326339947</td>\n",
              "      <td>151.18 -33.80</td>\n",
              "      <td>NaN</td>\n",
              "      <td>Eric</td>\n",
              "      <td>3158.51</td>\n",
              "      <td>M</td>\n",
              "      <td>22</td>\n",
              "      <td>2018-08-01T12:00:00.000+0000</td>\n",
              "      <td>983.36</td>\n",
              "      <td>bd62b1799a454cedbbb56364f7c40cbf</td>\n",
              "      <td>CUS-326006476</td>\n",
              "      <td>NaN</td>\n",
              "      <td>credit</td>\n",
              "    </tr>\n",
              "    <tr>\n",
              "      <th>68</th>\n",
              "      <td>posted</td>\n",
              "      <td>ACC-3541460373</td>\n",
              "      <td>145.00 -37.83</td>\n",
              "      <td>NaN</td>\n",
              "      <td>Jeffrey</td>\n",
              "      <td>2517.66</td>\n",
              "      <td>M</td>\n",
              "      <td>24</td>\n",
              "      <td>2018-08-01T13:00:00.000+0000</td>\n",
              "      <td>1408.08</td>\n",
              "      <td>0d95c7c932bb48e5b44c2637bdd3efe9</td>\n",
              "      <td>CUS-1433879684</td>\n",
              "      <td>NaN</td>\n",
              "      <td>credit</td>\n",
              "    </tr>\n",
              "    <tr>\n",
              "      <th>70</th>\n",
              "      <td>posted</td>\n",
              "      <td>ACC-2776252858</td>\n",
              "      <td>144.95 -37.76</td>\n",
              "      <td>NaN</td>\n",
              "      <td>Kristin</td>\n",
              "      <td>2271.79</td>\n",
              "      <td>F</td>\n",
              "      <td>43</td>\n",
              "      <td>2018-08-01T13:00:00.000+0000</td>\n",
              "      <td>1068.04</td>\n",
              "      <td>f50ccf1195214d14a0acbfcb5a265193</td>\n",
              "      <td>CUS-4123612273</td>\n",
              "      <td>NaN</td>\n",
              "      <td>credit</td>\n",
              "    </tr>\n",
              "  </tbody>\n",
              "</table>\n",
              "</div>"
            ],
            "text/plain": [
              "    status         account  ... merchant_long_lat movement\n",
              "50  posted   ACC-588564840  ...               NaN   credit\n",
              "61  posted  ACC-1650504218  ...               NaN   credit\n",
              "64  posted  ACC-3326339947  ...               NaN   credit\n",
              "68  posted  ACC-3541460373  ...               NaN   credit\n",
              "70  posted  ACC-2776252858  ...               NaN   credit\n",
              "\n",
              "[5 rows x 14 columns]"
            ]
          },
          "metadata": {
            "tags": []
          },
          "execution_count": 8
        }
      ]
    },
    {
      "cell_type": "markdown",
      "metadata": {
        "id": "PhO-vL4lcOAo",
        "colab_type": "text"
      },
      "source": [
        "Apart from just the date, various more insights can be derived if we split the date into many more columns. Here I use my custom built code which I have imported in the first cell. "
      ]
    },
    {
      "cell_type": "code",
      "metadata": {
        "id": "S5-g_q1e6f5W",
        "colab_type": "code",
        "colab": {
          "base_uri": "https://localhost:8080/",
          "height": 301
        },
        "outputId": "f69d28b9-3aee-45af-aef6-713256a25eab"
      },
      "source": [
        "add_datepart(salary_df,'extraction')\n",
        "salary_df.head()"
      ],
      "execution_count": 9,
      "outputs": [
        {
          "output_type": "execute_result",
          "data": {
            "text/html": [
              "<div>\n",
              "<style scoped>\n",
              "    .dataframe tbody tr th:only-of-type {\n",
              "        vertical-align: middle;\n",
              "    }\n",
              "\n",
              "    .dataframe tbody tr th {\n",
              "        vertical-align: top;\n",
              "    }\n",
              "\n",
              "    .dataframe thead th {\n",
              "        text-align: right;\n",
              "    }\n",
              "</style>\n",
              "<table border=\"1\" class=\"dataframe\">\n",
              "  <thead>\n",
              "    <tr style=\"text-align: right;\">\n",
              "      <th></th>\n",
              "      <th>status</th>\n",
              "      <th>account</th>\n",
              "      <th>long_lat</th>\n",
              "      <th>merchant_id</th>\n",
              "      <th>first_name</th>\n",
              "      <th>balance</th>\n",
              "      <th>gender</th>\n",
              "      <th>age</th>\n",
              "      <th>amount</th>\n",
              "      <th>transaction_id</th>\n",
              "      <th>customer_id</th>\n",
              "      <th>merchant_long_lat</th>\n",
              "      <th>movement</th>\n",
              "      <th>extractionYear</th>\n",
              "      <th>extractionMonth</th>\n",
              "      <th>extractionWeek</th>\n",
              "      <th>extractionDay</th>\n",
              "      <th>extractionDayofweek</th>\n",
              "      <th>extractionDayofyear</th>\n",
              "      <th>extractionIs_month_end</th>\n",
              "      <th>extractionIs_month_start</th>\n",
              "      <th>extractionIs_quarter_end</th>\n",
              "      <th>extractionIs_quarter_start</th>\n",
              "      <th>extractionIs_year_end</th>\n",
              "      <th>extractionIs_year_start</th>\n",
              "      <th>extractionElapsed</th>\n",
              "    </tr>\n",
              "  </thead>\n",
              "  <tbody>\n",
              "    <tr>\n",
              "      <th>50</th>\n",
              "      <td>posted</td>\n",
              "      <td>ACC-588564840</td>\n",
              "      <td>151.27 -33.76</td>\n",
              "      <td>NaN</td>\n",
              "      <td>Isaiah</td>\n",
              "      <td>8342.11</td>\n",
              "      <td>M</td>\n",
              "      <td>23</td>\n",
              "      <td>3903.95</td>\n",
              "      <td>9ca281650e5d482d9e53f85e959baa66</td>\n",
              "      <td>CUS-1462656821</td>\n",
              "      <td>NaN</td>\n",
              "      <td>credit</td>\n",
              "      <td>2018</td>\n",
              "      <td>8</td>\n",
              "      <td>31</td>\n",
              "      <td>1</td>\n",
              "      <td>2</td>\n",
              "      <td>213</td>\n",
              "      <td>False</td>\n",
              "      <td>True</td>\n",
              "      <td>False</td>\n",
              "      <td>False</td>\n",
              "      <td>False</td>\n",
              "      <td>False</td>\n",
              "      <td>1533121200</td>\n",
              "    </tr>\n",
              "    <tr>\n",
              "      <th>61</th>\n",
              "      <td>posted</td>\n",
              "      <td>ACC-1650504218</td>\n",
              "      <td>145.01 -37.93</td>\n",
              "      <td>NaN</td>\n",
              "      <td>Marissa</td>\n",
              "      <td>2040.58</td>\n",
              "      <td>F</td>\n",
              "      <td>23</td>\n",
              "      <td>1626.48</td>\n",
              "      <td>1822eb0e1bbe4c9e95ebbb0fa2cc4323</td>\n",
              "      <td>CUS-2500783281</td>\n",
              "      <td>NaN</td>\n",
              "      <td>credit</td>\n",
              "      <td>2018</td>\n",
              "      <td>8</td>\n",
              "      <td>31</td>\n",
              "      <td>1</td>\n",
              "      <td>2</td>\n",
              "      <td>213</td>\n",
              "      <td>False</td>\n",
              "      <td>True</td>\n",
              "      <td>False</td>\n",
              "      <td>False</td>\n",
              "      <td>False</td>\n",
              "      <td>False</td>\n",
              "      <td>1533124800</td>\n",
              "    </tr>\n",
              "    <tr>\n",
              "      <th>64</th>\n",
              "      <td>posted</td>\n",
              "      <td>ACC-3326339947</td>\n",
              "      <td>151.18 -33.80</td>\n",
              "      <td>NaN</td>\n",
              "      <td>Eric</td>\n",
              "      <td>3158.51</td>\n",
              "      <td>M</td>\n",
              "      <td>22</td>\n",
              "      <td>983.36</td>\n",
              "      <td>bd62b1799a454cedbbb56364f7c40cbf</td>\n",
              "      <td>CUS-326006476</td>\n",
              "      <td>NaN</td>\n",
              "      <td>credit</td>\n",
              "      <td>2018</td>\n",
              "      <td>8</td>\n",
              "      <td>31</td>\n",
              "      <td>1</td>\n",
              "      <td>2</td>\n",
              "      <td>213</td>\n",
              "      <td>False</td>\n",
              "      <td>True</td>\n",
              "      <td>False</td>\n",
              "      <td>False</td>\n",
              "      <td>False</td>\n",
              "      <td>False</td>\n",
              "      <td>1533124800</td>\n",
              "    </tr>\n",
              "    <tr>\n",
              "      <th>68</th>\n",
              "      <td>posted</td>\n",
              "      <td>ACC-3541460373</td>\n",
              "      <td>145.00 -37.83</td>\n",
              "      <td>NaN</td>\n",
              "      <td>Jeffrey</td>\n",
              "      <td>2517.66</td>\n",
              "      <td>M</td>\n",
              "      <td>24</td>\n",
              "      <td>1408.08</td>\n",
              "      <td>0d95c7c932bb48e5b44c2637bdd3efe9</td>\n",
              "      <td>CUS-1433879684</td>\n",
              "      <td>NaN</td>\n",
              "      <td>credit</td>\n",
              "      <td>2018</td>\n",
              "      <td>8</td>\n",
              "      <td>31</td>\n",
              "      <td>1</td>\n",
              "      <td>2</td>\n",
              "      <td>213</td>\n",
              "      <td>False</td>\n",
              "      <td>True</td>\n",
              "      <td>False</td>\n",
              "      <td>False</td>\n",
              "      <td>False</td>\n",
              "      <td>False</td>\n",
              "      <td>1533128400</td>\n",
              "    </tr>\n",
              "    <tr>\n",
              "      <th>70</th>\n",
              "      <td>posted</td>\n",
              "      <td>ACC-2776252858</td>\n",
              "      <td>144.95 -37.76</td>\n",
              "      <td>NaN</td>\n",
              "      <td>Kristin</td>\n",
              "      <td>2271.79</td>\n",
              "      <td>F</td>\n",
              "      <td>43</td>\n",
              "      <td>1068.04</td>\n",
              "      <td>f50ccf1195214d14a0acbfcb5a265193</td>\n",
              "      <td>CUS-4123612273</td>\n",
              "      <td>NaN</td>\n",
              "      <td>credit</td>\n",
              "      <td>2018</td>\n",
              "      <td>8</td>\n",
              "      <td>31</td>\n",
              "      <td>1</td>\n",
              "      <td>2</td>\n",
              "      <td>213</td>\n",
              "      <td>False</td>\n",
              "      <td>True</td>\n",
              "      <td>False</td>\n",
              "      <td>False</td>\n",
              "      <td>False</td>\n",
              "      <td>False</td>\n",
              "      <td>1533128400</td>\n",
              "    </tr>\n",
              "  </tbody>\n",
              "</table>\n",
              "</div>"
            ],
            "text/plain": [
              "    status         account  ... extractionIs_year_start extractionElapsed\n",
              "50  posted   ACC-588564840  ...                   False        1533121200\n",
              "61  posted  ACC-1650504218  ...                   False        1533124800\n",
              "64  posted  ACC-3326339947  ...                   False        1533124800\n",
              "68  posted  ACC-3541460373  ...                   False        1533128400\n",
              "70  posted  ACC-2776252858  ...                   False        1533128400\n",
              "\n",
              "[5 rows x 26 columns]"
            ]
          },
          "metadata": {
            "tags": []
          },
          "execution_count": 9
        }
      ]
    },
    {
      "cell_type": "markdown",
      "metadata": {
        "id": "KcxvYG9Kcd2l",
        "colab_type": "text"
      },
      "source": [
        "To convert the categorial columns so that the model can understand them there are various techniques including one-hot encoding and label encoding. But introducing new columns like these introduce more computation without providing more insights, hence I use my custom code to convert the codes ino category type and not integers. "
      ]
    },
    {
      "cell_type": "code",
      "metadata": {
        "id": "DpXYKySC6hrR",
        "colab_type": "code",
        "colab": {}
      },
      "source": [
        "train_cats(salary_df)"
      ],
      "execution_count": 0,
      "outputs": []
    },
    {
      "cell_type": "markdown",
      "metadata": {
        "id": "wvIaLJlXc4Ab",
        "colab_type": "text"
      },
      "source": [
        "As we saw in the last task, there are huge amount of outliers in the amount and balance columns and so, I log normalize them. "
      ]
    },
    {
      "cell_type": "code",
      "metadata": {
        "id": "ITAWIPdi6kej",
        "colab_type": "code",
        "colab": {}
      },
      "source": [
        "salary_df[['amount','balance']]=salary_df[['amount','balance']].apply(lambda x: np.log(x+1))"
      ],
      "execution_count": 0,
      "outputs": []
    },
    {
      "cell_type": "markdown",
      "metadata": {
        "id": "fZuRTAqqdB87",
        "colab_type": "text"
      },
      "source": [
        "And just like in the previous task, I convert the categorial long, lat to numeric values. "
      ]
    },
    {
      "cell_type": "code",
      "metadata": {
        "id": "8iPp2MC49RxP",
        "colab_type": "code",
        "colab": {}
      },
      "source": [
        "salary_df[['Long','Lat']] = salary_df.long_lat.str.split(expand=True) \n",
        "salary_df=salary_df.drop(['long_lat'],axis=1)"
      ],
      "execution_count": 0,
      "outputs": []
    },
    {
      "cell_type": "code",
      "metadata": {
        "id": "p6sd1EhG9Teg",
        "colab_type": "code",
        "colab": {}
      },
      "source": [
        "salary_df[['Long','Lat']] = salary_df[['Long','Lat']].apply(pd.to_numeric)"
      ],
      "execution_count": 0,
      "outputs": []
    },
    {
      "cell_type": "code",
      "metadata": {
        "id": "10wwL-jd9V6Q",
        "colab_type": "code",
        "colab": {
          "base_uri": "https://localhost:8080/",
          "height": 307
        },
        "outputId": "200bb296-65ad-4d86-8ff7-dfc4a65f9280"
      },
      "source": [
        "salary_df.describe()"
      ],
      "execution_count": 14,
      "outputs": [
        {
          "output_type": "execute_result",
          "data": {
            "text/html": [
              "<div>\n",
              "<style scoped>\n",
              "    .dataframe tbody tr th:only-of-type {\n",
              "        vertical-align: middle;\n",
              "    }\n",
              "\n",
              "    .dataframe tbody tr th {\n",
              "        vertical-align: top;\n",
              "    }\n",
              "\n",
              "    .dataframe thead th {\n",
              "        text-align: right;\n",
              "    }\n",
              "</style>\n",
              "<table border=\"1\" class=\"dataframe\">\n",
              "  <thead>\n",
              "    <tr style=\"text-align: right;\">\n",
              "      <th></th>\n",
              "      <th>balance</th>\n",
              "      <th>age</th>\n",
              "      <th>amount</th>\n",
              "      <th>extractionYear</th>\n",
              "      <th>extractionMonth</th>\n",
              "      <th>extractionWeek</th>\n",
              "      <th>extractionDay</th>\n",
              "      <th>extractionDayofweek</th>\n",
              "      <th>extractionDayofyear</th>\n",
              "      <th>extractionElapsed</th>\n",
              "      <th>Long</th>\n",
              "      <th>Lat</th>\n",
              "    </tr>\n",
              "  </thead>\n",
              "  <tbody>\n",
              "    <tr>\n",
              "      <th>count</th>\n",
              "      <td>883.000000</td>\n",
              "      <td>883.000000</td>\n",
              "      <td>883.000000</td>\n",
              "      <td>883.0</td>\n",
              "      <td>883.000000</td>\n",
              "      <td>883.000000</td>\n",
              "      <td>883.000000</td>\n",
              "      <td>883.000000</td>\n",
              "      <td>883.00000</td>\n",
              "      <td>8.830000e+02</td>\n",
              "      <td>883.000000</td>\n",
              "      <td>883.000000</td>\n",
              "    </tr>\n",
              "    <tr>\n",
              "      <th>mean</th>\n",
              "      <td>9.033044</td>\n",
              "      <td>32.631937</td>\n",
              "      <td>7.393238</td>\n",
              "      <td>2018.0</td>\n",
              "      <td>9.016988</td>\n",
              "      <td>37.578709</td>\n",
              "      <td>15.845980</td>\n",
              "      <td>1.967157</td>\n",
              "      <td>259.01812</td>\n",
              "      <td>1.537109e+09</td>\n",
              "      <td>143.479921</td>\n",
              "      <td>-37.750136</td>\n",
              "    </tr>\n",
              "    <tr>\n",
              "      <th>std</th>\n",
              "      <td>1.032263</td>\n",
              "      <td>12.276731</td>\n",
              "      <td>0.550652</td>\n",
              "      <td>0.0</td>\n",
              "      <td>0.832139</td>\n",
              "      <td>3.815067</td>\n",
              "      <td>8.881115</td>\n",
              "      <td>1.480810</td>\n",
              "      <td>26.60511</td>\n",
              "      <td>2.298684e+06</td>\n",
              "      <td>15.407227</td>\n",
              "      <td>48.163419</td>\n",
              "    </tr>\n",
              "    <tr>\n",
              "      <th>min</th>\n",
              "      <td>6.602126</td>\n",
              "      <td>18.000000</td>\n",
              "      <td>6.357842</td>\n",
              "      <td>2018.0</td>\n",
              "      <td>8.000000</td>\n",
              "      <td>31.000000</td>\n",
              "      <td>1.000000</td>\n",
              "      <td>0.000000</td>\n",
              "      <td>213.00000</td>\n",
              "      <td>1.533121e+09</td>\n",
              "      <td>114.620000</td>\n",
              "      <td>-573.000000</td>\n",
              "    </tr>\n",
              "    <tr>\n",
              "      <th>25%</th>\n",
              "      <td>8.368924</td>\n",
              "      <td>22.000000</td>\n",
              "      <td>6.922319</td>\n",
              "      <td>2018.0</td>\n",
              "      <td>8.000000</td>\n",
              "      <td>34.000000</td>\n",
              "      <td>8.000000</td>\n",
              "      <td>1.000000</td>\n",
              "      <td>236.00000</td>\n",
              "      <td>1.535114e+09</td>\n",
              "      <td>143.880000</td>\n",
              "      <td>-37.760000</td>\n",
              "    </tr>\n",
              "    <tr>\n",
              "      <th>50%</th>\n",
              "      <td>8.927120</td>\n",
              "      <td>30.000000</td>\n",
              "      <td>7.394788</td>\n",
              "      <td>2018.0</td>\n",
              "      <td>9.000000</td>\n",
              "      <td>38.000000</td>\n",
              "      <td>16.000000</td>\n",
              "      <td>2.000000</td>\n",
              "      <td>260.00000</td>\n",
              "      <td>1.537189e+09</td>\n",
              "      <td>145.170000</td>\n",
              "      <td>-33.960000</td>\n",
              "    </tr>\n",
              "    <tr>\n",
              "      <th>75%</th>\n",
              "      <td>9.573020</td>\n",
              "      <td>40.000000</td>\n",
              "      <td>7.839793</td>\n",
              "      <td>2018.0</td>\n",
              "      <td>10.000000</td>\n",
              "      <td>41.000000</td>\n",
              "      <td>24.000000</td>\n",
              "      <td>3.000000</td>\n",
              "      <td>282.00000</td>\n",
              "      <td>1.539104e+09</td>\n",
              "      <td>150.920000</td>\n",
              "      <td>-31.900000</td>\n",
              "    </tr>\n",
              "    <tr>\n",
              "      <th>max</th>\n",
              "      <td>12.495489</td>\n",
              "      <td>78.000000</td>\n",
              "      <td>9.086700</td>\n",
              "      <td>2018.0</td>\n",
              "      <td>10.000000</td>\n",
              "      <td>44.000000</td>\n",
              "      <td>31.000000</td>\n",
              "      <td>4.000000</td>\n",
              "      <td>304.00000</td>\n",
              "      <td>1.541005e+09</td>\n",
              "      <td>255.000000</td>\n",
              "      <td>-12.370000</td>\n",
              "    </tr>\n",
              "  </tbody>\n",
              "</table>\n",
              "</div>"
            ],
            "text/plain": [
              "          balance         age  ...        Long         Lat\n",
              "count  883.000000  883.000000  ...  883.000000  883.000000\n",
              "mean     9.033044   32.631937  ...  143.479921  -37.750136\n",
              "std      1.032263   12.276731  ...   15.407227   48.163419\n",
              "min      6.602126   18.000000  ...  114.620000 -573.000000\n",
              "25%      8.368924   22.000000  ...  143.880000  -37.760000\n",
              "50%      8.927120   30.000000  ...  145.170000  -33.960000\n",
              "75%      9.573020   40.000000  ...  150.920000  -31.900000\n",
              "max     12.495489   78.000000  ...  255.000000  -12.370000\n",
              "\n",
              "[8 rows x 12 columns]"
            ]
          },
          "metadata": {
            "tags": []
          },
          "execution_count": 14
        }
      ]
    },
    {
      "cell_type": "markdown",
      "metadata": {
        "id": "tUd_QJHddMLl",
        "colab_type": "text"
      },
      "source": [
        "For further processing, I will normalize all the numeric columns using minmax scaler. "
      ]
    },
    {
      "cell_type": "code",
      "metadata": {
        "id": "0huaLiv_9XsA",
        "colab_type": "code",
        "colab": {}
      },
      "source": [
        "from sklearn.preprocessing import MinMaxScaler\n",
        "sc = MinMaxScaler()\n",
        "\n",
        "salary_df[['amount','balance','age','extractionWeek','extractionDay','extractionDayofyear','extractionElapsed','Long','Lat']]=sc.fit_transform(salary_df[['amount','balance','age','extractionWeek','extractionDay','extractionDayofyear','extractionElapsed','Long','Lat']])"
      ],
      "execution_count": 0,
      "outputs": []
    },
    {
      "cell_type": "markdown",
      "metadata": {
        "id": "42qdz37wdTf2",
        "colab_type": "text"
      },
      "source": [
        "### Step 3: Initial Model Fit"
      ]
    },
    {
      "cell_type": "code",
      "metadata": {
        "id": "9V8Q9_pN9Z3l",
        "colab_type": "code",
        "colab": {}
      },
      "source": [
        "X, y, nas = proc_df(salary_df, 'amount')"
      ],
      "execution_count": 0,
      "outputs": []
    },
    {
      "cell_type": "code",
      "metadata": {
        "id": "y4vaN-ql9ckG",
        "colab_type": "code",
        "colab": {
          "base_uri": "https://localhost:8080/",
          "height": 52
        },
        "outputId": "6559d5e2-a111-4288-f3d4-e9d93ebcd0df"
      },
      "source": [
        "from sklearn.model_selection import train_test_split\n",
        "X_train, X_test, y_train, y_test = train_test_split(X, y, test_size = 0.2, random_state = 0)\n",
        "\n",
        "# Show the results of the split\n",
        "print(\"Training set has {} samples.\".format(X_train.shape[0]))\n",
        "print(\"Testing set has {} samples.\".format(X_test.shape[0]))"
      ],
      "execution_count": 17,
      "outputs": [
        {
          "output_type": "stream",
          "text": [
            "Training set has 706 samples.\n",
            "Testing set has 177 samples.\n"
          ],
          "name": "stdout"
        }
      ]
    },
    {
      "cell_type": "markdown",
      "metadata": {
        "id": "8LgSjaCxdY6z",
        "colab_type": "text"
      },
      "source": [
        "I start with using a simple Random Forest Regressor without specifying any parameters. Just the defaults. "
      ]
    },
    {
      "cell_type": "code",
      "metadata": {
        "id": "jutqS1I69fWG",
        "colab_type": "code",
        "colab": {
          "base_uri": "https://localhost:8080/",
          "height": 34
        },
        "outputId": "29b6b5f5-0bd8-47f1-c232-a696a266cc38"
      },
      "source": [
        "m = RandomForestRegressor(n_jobs=-1)\n",
        "m.fit(X_train, y_train)\n",
        "m.score(X_test,y_test)"
      ],
      "execution_count": 18,
      "outputs": [
        {
          "output_type": "execute_result",
          "data": {
            "text/plain": [
              "0.8671401758604343"
            ]
          },
          "metadata": {
            "tags": []
          },
          "execution_count": 18
        }
      ]
    },
    {
      "cell_type": "markdown",
      "metadata": {
        "id": "Aw9SZcK0djlJ",
        "colab_type": "text"
      },
      "source": [
        "Wow! That's pretty good for a simple model. "
      ]
    },
    {
      "cell_type": "markdown",
      "metadata": {
        "id": "87kXWIMgdoLp",
        "colab_type": "text"
      },
      "source": [
        "Now I'll try with an XGBoost Regressor which is like Random Forest on steroids. "
      ]
    },
    {
      "cell_type": "code",
      "metadata": {
        "id": "IJ_PetVB9hV1",
        "colab_type": "code",
        "colab": {
          "base_uri": "https://localhost:8080/",
          "height": 52
        },
        "outputId": "fc1b7d0a-bff8-4c82-9b21-0a54f7b24a6f"
      },
      "source": [
        "import xgboost as xgb\n",
        "model=xgb.XGBRegressor(random_state=1,learning_rate=0.3)\n",
        "\n",
        "model.fit(X_train, y_train)\n",
        "model.score(X_test,y_test)"
      ],
      "execution_count": 45,
      "outputs": [
        {
          "output_type": "stream",
          "text": [
            "[03:50:37] WARNING: /workspace/src/objective/regression_obj.cu:152: reg:linear is now deprecated in favor of reg:squarederror.\n"
          ],
          "name": "stdout"
        },
        {
          "output_type": "execute_result",
          "data": {
            "text/plain": [
              "0.9458726697857291"
            ]
          },
          "metadata": {
            "tags": []
          },
          "execution_count": 45
        }
      ]
    },
    {
      "cell_type": "markdown",
      "metadata": {
        "id": "JmscIMWYdxPq",
        "colab_type": "text"
      },
      "source": [
        "Great! That is so much better. "
      ]
    },
    {
      "cell_type": "markdown",
      "metadata": {
        "id": "dJNgHG4Jd4mq",
        "colab_type": "text"
      },
      "source": [
        "### Step 4: Inference"
      ]
    },
    {
      "cell_type": "markdown",
      "metadata": {
        "id": "OITYm27-d69c",
        "colab_type": "text"
      },
      "source": [
        "Let us see which feature was most responsible for tour result. "
      ]
    },
    {
      "cell_type": "code",
      "metadata": {
        "id": "ul7gZrxBVFHY",
        "colab_type": "code",
        "colab": {
          "base_uri": "https://localhost:8080/",
          "height": 647
        },
        "outputId": "050916bd-0368-457c-ba15-2043e7441a4c"
      },
      "source": [
        "fi=pd.DataFrame({'cols':X_train.columns, 'imp':model.feature_importances_}).sort_values('imp', ascending=False)\n",
        "fi.head(20)"
      ],
      "execution_count": 61,
      "outputs": [
        {
          "output_type": "execute_result",
          "data": {
            "text/html": [
              "<div>\n",
              "<style scoped>\n",
              "    .dataframe tbody tr th:only-of-type {\n",
              "        vertical-align: middle;\n",
              "    }\n",
              "\n",
              "    .dataframe tbody tr th {\n",
              "        vertical-align: top;\n",
              "    }\n",
              "\n",
              "    .dataframe thead th {\n",
              "        text-align: right;\n",
              "    }\n",
              "</style>\n",
              "<table border=\"1\" class=\"dataframe\">\n",
              "  <thead>\n",
              "    <tr style=\"text-align: right;\">\n",
              "      <th></th>\n",
              "      <th>cols</th>\n",
              "      <th>imp</th>\n",
              "    </tr>\n",
              "  </thead>\n",
              "  <tbody>\n",
              "    <tr>\n",
              "      <th>4</th>\n",
              "      <td>balance</td>\n",
              "      <td>0.150567</td>\n",
              "    </tr>\n",
              "    <tr>\n",
              "      <th>3</th>\n",
              "      <td>first_name</td>\n",
              "      <td>0.144748</td>\n",
              "    </tr>\n",
              "    <tr>\n",
              "      <th>6</th>\n",
              "      <td>age</td>\n",
              "      <td>0.137118</td>\n",
              "    </tr>\n",
              "    <tr>\n",
              "      <th>23</th>\n",
              "      <td>extractionElapsed</td>\n",
              "      <td>0.098610</td>\n",
              "    </tr>\n",
              "    <tr>\n",
              "      <th>15</th>\n",
              "      <td>extractionDayofweek</td>\n",
              "      <td>0.094218</td>\n",
              "    </tr>\n",
              "    <tr>\n",
              "      <th>25</th>\n",
              "      <td>Lat</td>\n",
              "      <td>0.079071</td>\n",
              "    </tr>\n",
              "    <tr>\n",
              "      <th>1</th>\n",
              "      <td>account</td>\n",
              "      <td>0.072304</td>\n",
              "    </tr>\n",
              "    <tr>\n",
              "      <th>24</th>\n",
              "      <td>Long</td>\n",
              "      <td>0.066899</td>\n",
              "    </tr>\n",
              "    <tr>\n",
              "      <th>16</th>\n",
              "      <td>extractionDayofyear</td>\n",
              "      <td>0.051762</td>\n",
              "    </tr>\n",
              "    <tr>\n",
              "      <th>5</th>\n",
              "      <td>gender</td>\n",
              "      <td>0.046602</td>\n",
              "    </tr>\n",
              "    <tr>\n",
              "      <th>8</th>\n",
              "      <td>customer_id</td>\n",
              "      <td>0.039167</td>\n",
              "    </tr>\n",
              "    <tr>\n",
              "      <th>7</th>\n",
              "      <td>transaction_id</td>\n",
              "      <td>0.006356</td>\n",
              "    </tr>\n",
              "    <tr>\n",
              "      <th>12</th>\n",
              "      <td>extractionMonth</td>\n",
              "      <td>0.005076</td>\n",
              "    </tr>\n",
              "    <tr>\n",
              "      <th>13</th>\n",
              "      <td>extractionWeek</td>\n",
              "      <td>0.004100</td>\n",
              "    </tr>\n",
              "    <tr>\n",
              "      <th>14</th>\n",
              "      <td>extractionDay</td>\n",
              "      <td>0.003401</td>\n",
              "    </tr>\n",
              "    <tr>\n",
              "      <th>11</th>\n",
              "      <td>extractionYear</td>\n",
              "      <td>0.000000</td>\n",
              "    </tr>\n",
              "    <tr>\n",
              "      <th>10</th>\n",
              "      <td>movement</td>\n",
              "      <td>0.000000</td>\n",
              "    </tr>\n",
              "    <tr>\n",
              "      <th>17</th>\n",
              "      <td>extractionIs_month_end</td>\n",
              "      <td>0.000000</td>\n",
              "    </tr>\n",
              "    <tr>\n",
              "      <th>18</th>\n",
              "      <td>extractionIs_month_start</td>\n",
              "      <td>0.000000</td>\n",
              "    </tr>\n",
              "    <tr>\n",
              "      <th>19</th>\n",
              "      <td>extractionIs_quarter_end</td>\n",
              "      <td>0.000000</td>\n",
              "    </tr>\n",
              "  </tbody>\n",
              "</table>\n",
              "</div>"
            ],
            "text/plain": [
              "                        cols       imp\n",
              "4                    balance  0.150567\n",
              "3                 first_name  0.144748\n",
              "6                        age  0.137118\n",
              "23         extractionElapsed  0.098610\n",
              "15       extractionDayofweek  0.094218\n",
              "25                       Lat  0.079071\n",
              "1                    account  0.072304\n",
              "24                      Long  0.066899\n",
              "16       extractionDayofyear  0.051762\n",
              "5                     gender  0.046602\n",
              "8                customer_id  0.039167\n",
              "7             transaction_id  0.006356\n",
              "12           extractionMonth  0.005076\n",
              "13            extractionWeek  0.004100\n",
              "14             extractionDay  0.003401\n",
              "11            extractionYear  0.000000\n",
              "10                  movement  0.000000\n",
              "17    extractionIs_month_end  0.000000\n",
              "18  extractionIs_month_start  0.000000\n",
              "19  extractionIs_quarter_end  0.000000"
            ]
          },
          "metadata": {
            "tags": []
          },
          "execution_count": 61
        }
      ]
    },
    {
      "cell_type": "code",
      "metadata": {
        "id": "y_QS1L_bWKAW",
        "colab_type": "code",
        "colab": {
          "base_uri": "https://localhost:8080/",
          "height": 445
        },
        "outputId": "6d1bd454-bf22-4cc2-9b49-44beb1761ed4"
      },
      "source": [
        "fi.plot('cols', 'imp', 'barh', figsize=(12,7), legend=False)"
      ],
      "execution_count": 62,
      "outputs": [
        {
          "output_type": "execute_result",
          "data": {
            "text/plain": [
              "<matplotlib.axes._subplots.AxesSubplot at 0x7fbdcfa19940>"
            ]
          },
          "metadata": {
            "tags": []
          },
          "execution_count": 62
        },
        {
          "output_type": "display_data",
          "data": {
            "image/png": "[encoded data removed]",
            "text/plain": [
              "<Figure size 864x504 with 1 Axes>"
            ]
          },
          "metadata": {
            "tags": [],
            "needs_background": "light"
          }
        }
      ]
    },
    {
      "cell_type": "markdown",
      "metadata": {
        "id": "HE18ZEJCeCjl",
        "colab_type": "text"
      },
      "source": [
        "Unsurprisingly, account balance and age come out on top, but first name seems weird. "
      ]
    },
    {
      "cell_type": "markdown",
      "metadata": {
        "id": "--BqeCKGeLe6",
        "colab_type": "text"
      },
      "source": [
        "Let's try and remove the columns which affect our model very less. "
      ]
    },
    {
      "cell_type": "code",
      "metadata": {
        "id": "OUadaSVPZPg5",
        "colab_type": "code",
        "colab": {}
      },
      "source": [
        "to_keep = fi[fi.imp>0.03].cols; len(salary_df.columns),len(to_keep)\n",
        "df_keep = X[to_keep].copy()"
      ],
      "execution_count": 0,
      "outputs": []
    },
    {
      "cell_type": "code",
      "metadata": {
        "id": "lMfE25eHZbBg",
        "colab_type": "code",
        "colab": {
          "base_uri": "https://localhost:8080/",
          "height": 52
        },
        "outputId": "136b2835-7744-45bd-e69e-cf5c32ed9427"
      },
      "source": [
        "X_train, X_test, y_train, y_test = train_test_split(df_keep, y, test_size = 0.2, random_state = 0)\n",
        "model.fit(X_train, y_train)\n",
        "model.score(X_test,y_test)"
      ],
      "execution_count": 69,
      "outputs": [
        {
          "output_type": "stream",
          "text": [
            "[04:24:25] WARNING: /workspace/src/objective/regression_obj.cu:152: reg:linear is now deprecated in favor of reg:squarederror.\n"
          ],
          "name": "stdout"
        },
        {
          "output_type": "execute_result",
          "data": {
            "text/plain": [
              "0.9478095308221777"
            ]
          },
          "metadata": {
            "tags": []
          },
          "execution_count": 69
        }
      ]
    },
    {
      "cell_type": "markdown",
      "metadata": {
        "id": "DfRBh95uer5h",
        "colab_type": "text"
      },
      "source": [
        "The model did improve, but insignificantly. "
      ]
    },
    {
      "cell_type": "code",
      "metadata": {
        "id": "UfPqXL0qesoP",
        "colab_type": "code",
        "colab": {}
      },
      "source": [
        ""
      ],
      "execution_count": 0,
      "outputs": []
    }
  ]
}